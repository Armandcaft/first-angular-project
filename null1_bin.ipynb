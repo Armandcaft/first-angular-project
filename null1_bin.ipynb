{
  "nbformat": 4,
  "nbformat_minor": 0,
  "metadata": {
    "colab": {
      "provenance": [],
      "collapsed_sections": [],
      "include_colab_link": true
    },
    "kernelspec": {
      "name": "python3",
      "display_name": "Python 3"
    },
    "language_info": {
      "name": "python"
    }
  },
  "cells": [
    {
      "cell_type": "markdown",
      "metadata": {
        "id": "view-in-github",
        "colab_type": "text"
      },
      "source": [
        "<a href=\"https://colab.research.google.com/github/Armandcaft/first-angular-project/blob/main/null1_bin.ipynb\" target=\"_parent\"><img src=\"https://colab.research.google.com/assets/colab-badge.svg\" alt=\"Open In Colab\"/></a>"
      ]
    },
    {
      "cell_type": "markdown",
      "source": [
        "Devoir 1: À faire en groupes (ceux déjà consitués)\n",
        "\n",
        "**Instructions:**\n",
        "Write an algorithm which swaps the values of two variables i.e. X=2 Y=3 at start; at the end X=3 and Y=2. X and Y should be taken from the keyboard"
      ],
      "metadata": {
        "id": "HkVuVRW9b8Uw"
      }
    },
    {
      "cell_type": "code",
      "source": [
        "#Code en python\n",
        "x= int(input(\"Entrez la valeur numérique du premier nombre, x : \"))\n",
        "y= int(input(\"Entrez la valeur numérique du deuxième nombre, y : \"))\n",
        "\n",
        "print(\"Les valeurs respectives de x et y avant sont : x = %d et y = %d\" %(x,y))\n",
        "\n",
        "temp = x\n",
        "x = y\n",
        "y = temp\n",
        "\n",
        "print(\"Les valeurs respectives de x et y après sont : x = %d et y = %d\" %(x,y))"
      ],
      "metadata": {
        "colab": {
          "base_uri": "https://localhost:8080/"
        },
        "id": "kjXj5IjT5AnZ",
        "outputId": "feb3d5cc-8839-4bb7-8d76-d502c4c40fc9"
      },
      "execution_count": 3,
      "outputs": [
        {
          "output_type": "stream",
          "name": "stdout",
          "text": [
            "Entrez la valeur numérique du premier nombre, x : 12\n",
            "Entrez la valeur numérique du deuxième nombre, y : 48\n",
            "Les valeurs respectives de x et y avant sont : x = 12 et y = 48\n",
            "Les valeurs respectives de x et y après sont : x = 48 et y = 12\n"
          ]
        }
      ]
    },
    {
      "cell_type": "markdown",
      "source": [
        "Devoir 2\n",
        "\n",
        "Comment #This is a sample program\n",
        "\n",
        "Comment # A Function\n",
        "\n",
        "def iamhappytopython():\n",
        "\n",
        "print(“I am happy to code in Python”)\n",
        "\n",
        "Comment #Core of the program\n",
        "\n",
        "a=int(input(“Enter a”))\n",
        "\n",
        "b=a+4\n",
        "\n",
        "print(a)\n",
        "\n",
        "If b<13 : \n",
        "# Colon means that it is a block\n",
        "\n",
        "print(“the value of b is less than 9”)\n",
        "\n",
        "else :\n",
        "\n",
        "print(“the value of b is greater or equal to 9”)\n",
        "\n",
        "iamhappytopython()\n",
        "\n"
      ],
      "metadata": {
        "id": "YcvyqVAjBhHO"
      }
    },
    {
      "cell_type": "code",
      "source": [
        "#This is a sample program\n",
        "\n",
        "# A Function\n",
        "\n",
        "def iamhappytopython():\n",
        "  print(\"I am happy to code in Python\")\n",
        "\n",
        "#Core of the program\n",
        "\n",
        "a = int(input(\"Enter a : \"))\n",
        "\n",
        "b = a + 4\n",
        "\n",
        "print(a)\n",
        "\n",
        "if b < 13 : \n",
        "  print(\"The value of b is less than 9\")\n",
        "else :\n",
        "  print(\"The value of b is greater or equal to 9\")\n",
        "\n",
        "iamhappytopython()"
      ],
      "metadata": {
        "colab": {
          "base_uri": "https://localhost:8080/"
        },
        "id": "RT8kg_Ol-lqq",
        "outputId": "98ca4553-b35c-4aeb-f1bd-ad3872914e58"
      },
      "execution_count": 5,
      "outputs": [
        {
          "output_type": "stream",
          "name": "stdout",
          "text": [
            "Enter a : 10\n",
            "10\n",
            "The value of b is greater or equal to 9\n",
            "I am happy to code in Python\n"
          ]
        }
      ]
    }
  ]
}